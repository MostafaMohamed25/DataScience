{
 "cells": [
  {
   "cell_type": "markdown",
   "id": "70e4b1a9",
   "metadata": {},
   "source": [
    "# Data Science Tools and Ecosystem\n"
   ]
  },
  {
   "cell_type": "markdown",
   "id": "f5d5ef28",
   "metadata": {},
   "source": [
    "# In this notebook, Data Science Tools and Ecosystem are summarized."
   ]
  },
  {
   "cell_type": "markdown",
   "id": "3fe9a6bc",
   "metadata": {},
   "source": [
    "# some of the popular languages that Data Scientists use are:\n",
    "# 1. Python\n",
    "# 2. R\n",
    "# 3. Julia"
   ]
  },
  {
   "cell_type": "markdown",
   "id": "0e6ffd2f",
   "metadata": {},
   "source": [
    "# Some of the commonly used libraries used by Data Scientists include:\n",
    "# 1. NumPy\n",
    "# 2. Pandas\n",
    "# 3. Matplotlib"
   ]
  },
  {
   "cell_type": "markdown",
   "id": "31b7b3a4",
   "metadata": {},
   "source": [
    "# | Data Science Tools |\n",
    "# | ----------------- |\n",
    "# | Jupyter Notebook  |\n",
    "# | RStudio           |\n",
    "# | PyCharm           |"
   ]
  },
  {
   "cell_type": "markdown",
   "id": "350b0187",
   "metadata": {},
   "source": [
    "### Below are a few examples of evaluating arithmetic expressions in Python."
   ]
  },
  {
   "cell_type": "code",
   "execution_count": 7,
   "id": "f6f2ad15",
   "metadata": {
    "scrolled": true
   },
   "outputs": [
    {
     "name": "stdout",
     "output_type": "stream",
     "text": [
      "17\n"
     ]
    }
   ],
   "source": [
    "#\"This is a simple arithmetic expression to multiply then add integers.\"\n",
    "print(3*4+5)"
   ]
  },
  {
   "cell_type": "code",
   "execution_count": 8,
   "id": "bb51f9a8",
   "metadata": {},
   "outputs": [
    {
     "data": {
      "text/plain": [
       "3.3333333333333335"
      ]
     },
     "execution_count": 8,
     "metadata": {},
     "output_type": "execute_result"
    }
   ],
   "source": [
    "# This will convert 200 minutes to hours by dividing by 60.\n",
    "200/60"
   ]
  },
  {
   "cell_type": "markdown",
   "id": "8727c83d",
   "metadata": {},
   "source": [
    "# Objectives:\n",
    "#   * Python\n",
    "#   * R\n",
    "#   * Scala"
   ]
  },
  {
   "cell_type": "markdown",
   "id": "c1a32bf0",
   "metadata": {},
   "source": [
    "## Author Author"
   ]
  },
  {
   "cell_type": "code",
   "execution_count": null,
   "id": "e94ad76e",
   "metadata": {},
   "outputs": [],
   "source": []
  }
 ],
 "metadata": {
  "kernelspec": {
   "display_name": "Python 3 (ipykernel)",
   "language": "python",
   "name": "python3"
  },
  "language_info": {
   "codemirror_mode": {
    "name": "ipython",
    "version": 3
   },
   "file_extension": ".py",
   "mimetype": "text/x-python",
   "name": "python",
   "nbconvert_exporter": "python",
   "pygments_lexer": "ipython3",
   "version": "3.11.4"
  }
 },
 "nbformat": 4,
 "nbformat_minor": 5
}
